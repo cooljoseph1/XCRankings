{
 "cells": [
  {
   "cell_type": "markdown",
   "metadata": {},
   "source": [
    "# It Runs\n",
    "## Theory\n",
    "\n",
    "We want to assign a score to each runner. These scores should be reflective of their race times, i.e.\n",
    "\n",
    "$$\\frac{\\text{score}_{\\text{Player 1}}}{\\text{score}_{\\text{Player 2}}}\\approx \\frac{\\text{time}_{\\text{Player 1}}}{\\text{time}_{\\text{Player 2}}}.$$\n",
    "\n",
    "The time ratio won't remain constant for every race, but it should stay decently close assuming each runner has a normal race. To find the scores, we start with an error computed as follows:\n",
    "\n",
    "$$E = \\left[\\ln\\left(\\frac{\\text{score}_{\\text{Player 1}}}{\\text{score}_{\\text{Player 2}}}\\right) - \\ln\\left(\\frac{\\text{time}_{\\text{Player 1}}}{\\text{time}_{\\text{Player 2}}}\\right)\\right]^2,$$\n",
    "\n",
    "summed over every pair of players for every possible race. The logs make it so it doesn't matter if we switch the order of the two players. We minimize this with batched gradient descent. Each race is used as a separate batch. One issue with this approach is the best athletes' scores will keep decreasing (even going negative!) while the slower athlete's scores will increase forever. We add in a little Bayesian statistics to reign in this divergence. People's running times form a distribution similar to a Rayleigh distribution:\n",
    "\n",
    "$$R(x) = \\frac{xe^{-\\frac{x^2}{2\\sigma^2}}}{\\sigma^2}.$$\n",
    "\n",
    "with $\\sigma = 10.$ We subtract a portion of this from our error (awarding high-probability scores), so our overall loss is\n",
    "\n",
    "$$L = \\alpha E - \\beta R$$\n",
    "\n",
    "for free parameters $\\alpha$ and $\\beta.$ We chose $\\alpha = \\beta = 0.1$, but that was mostly arbitrary. To the left you can see several randomly picked scores as they find the optimum solution through gradient descent."
   ]
  },
  {
   "cell_type": "code",
   "execution_count": null,
   "metadata": {},
   "outputs": [],
   "source": []
  }
 ],
 "metadata": {
  "kernelspec": {
   "display_name": "Python 3",
   "language": "python",
   "name": "python3"
  },
  "language_info": {
   "codemirror_mode": {
    "name": "ipython",
    "version": 3
   },
   "file_extension": ".py",
   "mimetype": "text/x-python",
   "name": "python",
   "nbconvert_exporter": "python",
   "pygments_lexer": "ipython3",
   "version": "3.7.4"
  }
 },
 "nbformat": 4,
 "nbformat_minor": 2
}
